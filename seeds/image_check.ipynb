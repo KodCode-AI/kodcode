{
 "cells": [
  {
   "cell_type": "code",
   "execution_count": 3,
   "metadata": {},
   "outputs": [
    {
     "name": "stdout",
     "output_type": "stream",
     "text": [
      "Total entries with <image>: 2784\n",
      "Total entries: 13328\n"
     ]
    }
   ],
   "source": [
    "# read json file and search for <image>\n",
    "import json\n",
    "\n",
    "file_path = \"/home/nsl/zhangchen/kodcode/seeds/code_contests/code_contests_train_lite.json\"\n",
    "\n",
    "with open(file_path, 'r') as f:\n",
    "    data = json.load(f)\n",
    "\n",
    "total_cnt = 0\n",
    "cnt = 0\n",
    "for entry in data:\n",
    "    total_cnt += 1\n",
    "    if '<image>' in entry['question']:\n",
    "        cnt += 1\n",
    "\n",
    "print(f\"Total entries with <image>: {cnt}\")\n",
    "print(f\"Total entries: {total_cnt}\")"
   ]
  }
 ],
 "metadata": {
  "kernelspec": {
   "display_name": "kodcode",
   "language": "python",
   "name": "python3"
  },
  "language_info": {
   "codemirror_mode": {
    "name": "ipython",
    "version": 3
   },
   "file_extension": ".py",
   "mimetype": "text/x-python",
   "name": "python",
   "nbconvert_exporter": "python",
   "pygments_lexer": "ipython3",
   "version": "3.10.16"
  }
 },
 "nbformat": 4,
 "nbformat_minor": 2
}
